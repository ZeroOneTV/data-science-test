{
 "cells": [
  {
   "cell_type": "code",
   "execution_count": 1,
   "metadata": {},
   "outputs": [
    {
     "name": "stdout",
     "output_type": "stream",
     "text": [
      "  PassengerId HomePlanet CryoSleep  Cabin  Destination   Age    VIP  \\\n",
      "0     0001_01     Europa     False  B/0/P  TRAPPIST-1e  39.0  False   \n",
      "1     0002_01      Earth     False  F/0/S  TRAPPIST-1e  24.0  False   \n",
      "2     0003_01     Europa     False  A/0/S  TRAPPIST-1e  58.0   True   \n",
      "3     0003_02     Europa     False  A/0/S  TRAPPIST-1e  33.0  False   \n",
      "4     0004_01      Earth     False  F/1/S  TRAPPIST-1e  16.0  False   \n",
      "\n",
      "   RoomService  FoodCourt  ShoppingMall     Spa  VRDeck               Name  \\\n",
      "0          0.0        0.0           0.0     0.0     0.0    Maham Ofracculy   \n",
      "1        109.0        9.0          25.0   549.0    44.0       Juanna Vines   \n",
      "2         43.0     3576.0           0.0  6715.0    49.0      Altark Susent   \n",
      "3          0.0     1283.0         371.0  3329.0   193.0       Solam Susent   \n",
      "4        303.0       70.0         151.0   565.0     2.0  Willy Santantines   \n",
      "\n",
      "   Transported  \n",
      "0        False  \n",
      "1         True  \n",
      "2        False  \n",
      "3        False  \n",
      "4         True  \n"
     ]
    }
   ],
   "source": [
    "import pandas as pd\n",
    "from sklearn.preprocessing import LabelEncoder\n",
    "from sklearn.model_selection import train_test_split, GridSearchCV\n",
    "from sklearn.ensemble import RandomForestClassifier\n",
    "from sklearn.metrics import accuracy_score\n",
    "import joblib\n",
    "from sklearn.metrics import recall_score, precision_score, roc_auc_score, accuracy_score, f1_score\n",
    "\n",
    "\n",
    "data = pd.read_csv('train.csv')\n",
    "print(data.head())"
   ]
  },
  {
   "cell_type": "code",
   "execution_count": 2,
   "metadata": {},
   "outputs": [],
   "source": [
    "def fill_missing_values(df: pd.DataFrame):\n",
    "    for column in df.columns:\n",
    "        if column in ['Age', 'RoomService', 'FoodCourt', 'ShoppingMall', 'Spa', 'VRDeck']:\n",
    "            df[column] = df[column].fillna(df[column].mean())\n",
    "        elif column in ['HomePlanet', 'Cabin', 'Destination', 'Name', 'PassengerId']:\n",
    "            df[column] = df[column].astype('object')\n",
    "            df[column] = df[column].fillna(df[column].mode()[0])\n",
    "        elif column in ['VIP', 'Transported', 'CryoSleep']:\n",
    "            df[column] = df[column].fillna(df[column].mode()[0])\n",
    "    return df"
   ]
  },
  {
   "cell_type": "code",
   "execution_count": 3,
   "metadata": {},
   "outputs": [
    {
     "name": "stderr",
     "output_type": "stream",
     "text": [
      "/tmp/ipykernel_54694/240405876.py:9: FutureWarning: Downcasting object dtype arrays on .fillna, .ffill, .bfill is deprecated and will change in a future version. Call result.infer_objects(copy=False) instead. To opt-in to the future behavior, set `pd.set_option('future.no_silent_downcasting', True)`\n",
      "  df[column] = df[column].fillna(df[column].mode()[0])\n",
      "/tmp/ipykernel_54694/240405876.py:9: FutureWarning: Downcasting object dtype arrays on .fillna, .ffill, .bfill is deprecated and will change in a future version. Call result.infer_objects(copy=False) instead. To opt-in to the future behavior, set `pd.set_option('future.no_silent_downcasting', True)`\n",
      "  df[column] = df[column].fillna(df[column].mode()[0])\n"
     ]
    }
   ],
   "source": [
    "#Limpeza para valores null dentre as colunas, tomei a liberdade de \n",
    "#definir o tipo para cada coluna no método anterior para facilitar\n",
    "data = fill_missing_values(df=data)\n",
    "\n",
    "# Inicializar o LabelEncoder\n",
    "le = LabelEncoder()\n",
    "categorical_cols = ['HomePlanet', 'CryoSleep', 'Cabin', 'Destination', 'VIP']\n",
    "for col in categorical_cols:\n",
    "    data[col] = le.fit_transform(data[col].astype(str))"
   ]
  },
  {
   "cell_type": "code",
   "execution_count": 4,
   "metadata": {},
   "outputs": [
    {
     "name": "stdout",
     "output_type": "stream",
     "text": [
      "Validation Accuracy: 0.78\n"
     ]
    }
   ],
   "source": [
    "# Separar características e variável-alvo nos dados de treino\n",
    "X_train = data.drop(['PassengerId', 'Transported', 'Name'], axis=1)\n",
    "y_train = data['Transported'].astype(bool)\n",
    "\n",
    "X_train_part, X_val, y_train_part, y_val = train_test_split(X_train, y_train, test_size=0.2, random_state=42)\n",
    "\n",
    "clf = RandomForestClassifier(n_estimators=100, random_state=42)\n",
    "clf.fit(X_train_part, y_train_part)\n",
    "\n",
    "y_val_pred = clf.predict(X_val)\n",
    "val_accuracy = accuracy_score(y_val, y_val_pred)\n",
    "print(f'Validation Accuracy: {val_accuracy:.2f}')"
   ]
  },
  {
   "cell_type": "code",
   "execution_count": 5,
   "metadata": {},
   "outputs": [
    {
     "name": "stdout",
     "output_type": "stream",
     "text": [
      "Resultados da Classificação:\n",
      "f1: 77.51%\n",
      "roc: 77.53%\n",
      "recall: 77.52%\n",
      "precisão: 77.55%\n"
     ]
    }
   ],
   "source": [
    "# Se quiser visualizar melhor a precisão do modelo\n",
    "# Tem esse método que estruturei aqui\n",
    "\n",
    "# def evaluate_results(y_test, y_predict):\n",
    "#     print('Resultados da Classificação:')\n",
    "#     f1 = f1_score(y_test, y_predict, average='weighted', zero_division=1)\n",
    "#     print(\"f1: %.2f%%\" % (f1 * 100.0)) \n",
    "#     roc = roc_auc_score(y_test, y_predict, average='weighted')\n",
    "#     print(\"roc: %.2f%%\" % (roc * 100.0)) \n",
    "#     rec = recall_score(y_test, y_predict, average='weighted', zero_division=1)\n",
    "#     print(\"recall: %.2f%%\" % (rec * 100.0)) \n",
    "#     prc = precision_score(y_test, y_predict, average='weighted', zero_division=1)\n",
    "#     print(\"precisão: %.2f%%\" % (prc * 100.0)) \n",
    "\n",
    "\n",
    "# evaluate_results(y_val, y_val_pred)"
   ]
  },
  {
   "cell_type": "code",
   "execution_count": 6,
   "metadata": {},
   "outputs": [],
   "source": [
    "# Caso desejar buscar entre diversos parâmetros o que seria o ideal, pode descomentar a baixo e rodar\n",
    "# Possível que alguns jobs dêem problema pois é algo que utiliza mt ram e processamento, então qualquer coisa colocar\n",
    "# Esse bloco aqui em um multiprocessing seria o ideal, para utilizar melhor todos os núcleos no computador que rode\n",
    "\n",
    "# param_grid = {\n",
    "#     'n_estimators': [50, 100, 150], \n",
    "#     'max_depth': [None, 10, 20, 30],\n",
    "#     'min_samples_split': [2, 5, 10],\n",
    "#     'min_samples_leaf': [1, 2, 4],\n",
    "#     'max_features': ['auto', 'sqrt', 'log2']  \n",
    "# }\n",
    "\n",
    "#\n",
    "# rf = RandomForestClassifier(random_state=42)\n",
    "\n",
    "# grid_search = GridSearchCV(estimator=rf, param_grid=param_grid, cv=5, scoring='accuracy', n_jobs=-1)\n",
    "\n",
    "# grid_search.fit(X_train_part, y_train_part)\n",
    "\n",
    "# best_params = grid_search.best_params_\n",
    "# best_model = grid_search.best_estimator_\n",
    "\n",
    "# y_val_pred = best_model.predict(X_val)\n",
    "# val_accuracy = accuracy_score(y_val, y_val_pred)\n",
    "# print(f'Validation Accuracy with Best Model: {val_accuracy:.2f}')\n",
    "# print(f'Best Parameters: {best_params}')"
   ]
  },
  {
   "cell_type": "code",
   "execution_count": 7,
   "metadata": {},
   "outputs": [
    {
     "name": "stderr",
     "output_type": "stream",
     "text": [
      "/tmp/ipykernel_54694/240405876.py:9: FutureWarning: Downcasting object dtype arrays on .fillna, .ffill, .bfill is deprecated and will change in a future version. Call result.infer_objects(copy=False) instead. To opt-in to the future behavior, set `pd.set_option('future.no_silent_downcasting', True)`\n",
      "  df[column] = df[column].fillna(df[column].mode()[0])\n",
      "/tmp/ipykernel_54694/240405876.py:9: FutureWarning: Downcasting object dtype arrays on .fillna, .ffill, .bfill is deprecated and will change in a future version. Call result.infer_objects(copy=False) instead. To opt-in to the future behavior, set `pd.set_option('future.no_silent_downcasting', True)`\n",
      "  df[column] = df[column].fillna(df[column].mode()[0])\n"
     ]
    }
   ],
   "source": [
    "# Dados de teste\n",
    "test_data = pd.read_csv('test.csv')\n",
    "\n",
    "test_data = fill_missing_values(test_data)\n",
    "for col in categorical_cols:\n",
    "    test_data[col] = le.fit_transform(test_data[col].astype(str))\n",
    "\n",
    "X_test = test_data.drop(['PassengerId', 'Name'], axis=1)\n",
    "\n",
    "predictions = []\n",
    "passenger_ids = test_data['PassengerId']\n",
    "\n",
    "test_predictions = clf.predict(X_test)\n",
    "# Como no repositório modelo do teste, tinha apenas o output relativo a positivo ou falso,\n",
    "# tomei a liberdade de adicionar 2 colunas com a porcentagem de probabilidade\n",
    "# para cada uma das labels treinadas (positivo e negativo)\n",
    "test_probabilities = clf.predict_proba(X_test)\n",
    "\n",
    "submission = pd.DataFrame({\n",
    "    'PassengerId': passenger_ids,\n",
    "    'Transported': test_predictions,\n",
    "    'Probability_Positive': test_probabilities[:, 1],\n",
    "    'Probability_Negative': test_probabilities[:, 0]\n",
    "})\n",
    "\n",
    "submission.to_csv('submission.csv', index=False)"
   ]
  },
  {
   "cell_type": "code",
   "execution_count": null,
   "metadata": {},
   "outputs": [],
   "source": [
    "# Caso deseje salvar o encoder e o modelo para posteriormente carregar ele em novos dados ou em um outro ambiente:\n",
    "\n",
    "joblib.dump(clf, 'best_model.joblib')\n",
    "\n",
    "# Salvar os LabelEncoders\n",
    "joblib.dump(le, 'label_encoders.joblib')"
   ]
  }
 ],
 "metadata": {
  "kernelspec": {
   "display_name": "Python 3",
   "language": "python",
   "name": "python3"
  },
  "language_info": {
   "codemirror_mode": {
    "name": "ipython",
    "version": 3
   },
   "file_extension": ".py",
   "mimetype": "text/x-python",
   "name": "python",
   "nbconvert_exporter": "python",
   "pygments_lexer": "ipython3",
   "version": "3.10.12"
  }
 },
 "nbformat": 4,
 "nbformat_minor": 2
}
